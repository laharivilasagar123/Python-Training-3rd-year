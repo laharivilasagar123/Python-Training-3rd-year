{
 "cells": [
  {
   "cell_type": "code",
   "execution_count": 9,
   "id": "7a1c931b-51d8-46bc-adac-9ab60495acd7",
   "metadata": {},
   "outputs": [
    {
     "name": "stdin",
     "output_type": "stream",
     "text": [
      "Enter radius 5\n"
     ]
    },
    {
     "name": "stdout",
     "output_type": "stream",
     "text": [
      "Area of circle is: 78.5\n"
     ]
    }
   ],
   "source": [
    "#Take input from user\n",
    "r=float(input(\"Enter radius\"))\n",
    "pi=3.14\n",
    "#Area Formula calculation\n",
    "areaC=pi*r*r\n",
    "print(f\"Area of circle is: {areaC}\")\n"
   ]
  },
  {
   "cell_type": "code",
   "execution_count": 1,
   "id": "ce6fab1b-5f57-46c3-b78c-4e04561ed331",
   "metadata": {},
   "outputs": [
    {
     "name": "stdin",
     "output_type": "stream",
     "text": [
      "Enter height 10\n",
      "Enter base 20\n"
     ]
    },
    {
     "name": "stdout",
     "output_type": "stream",
     "text": [
      "Area of Triangle is: 100.0\n"
     ]
    }
   ],
   "source": [
    "#Area Of Triangle\n",
    "h=float(input(\"Enter height\"))\n",
    "b=float(input(\"Enter base\"))\n",
    "print(f\"Area of Triangle is: {0.5*h*b} sq.m.\")"
   ]
  },
  {
   "cell_type": "code",
   "execution_count": 21,
   "id": "e79a33c3-3ffb-4429-a6fb-bbf5368dc432",
   "metadata": {},
   "outputs": [
    {
     "name": "stdin",
     "output_type": "stream",
     "text": [
      "Enter first number 10\n",
      "Enter second number 20\n"
     ]
    },
    {
     "name": "stdout",
     "output_type": "stream",
     "text": [
      "After Swapping : a=20,b=10\n"
     ]
    }
   ],
   "source": [
    "a=int(input(\"Enter first number\"))\n",
    "b=int(input(\"Enter second number\"))\n",
    "#swapping\n",
    "a,b=b,a\n",
    "print(f\"After Swapping : a={a},b={b}\")"
   ]
  },
  {
   "cell_type": "code",
   "execution_count": 35,
   "id": "48eac5eb-7e75-47a8-a99a-d79b08e09650",
   "metadata": {},
   "outputs": [
    {
     "name": "stdin",
     "output_type": "stream",
     "text": [
      "Enter celsius 50\n"
     ]
    },
    {
     "name": "stdout",
     "output_type": "stream",
     "text": [
      "122.0\n"
     ]
    }
   ],
   "source": [
    "#pgm To Convert celsius to Fahrenheit\n",
    "c=float(input(\"Enter celsius\"))\n",
    "f=(c*(9/5))+32;\n",
    "print(f)"
   ]
  },
  {
   "cell_type": "code",
   "execution_count": 63,
   "id": "6296e8a1-153f-47db-93d6-76c4749b1d9e",
   "metadata": {},
   "outputs": [
    {
     "name": "stdin",
     "output_type": "stream",
     "text": [
      "Enter Fahrenheit 122\n"
     ]
    },
    {
     "name": "stdout",
     "output_type": "stream",
     "text": [
      "celsius =50.00\n"
     ]
    }
   ],
   "source": [
    "#pgm To Convert Fahrenheit to celsius \n",
    "fahrenheit=float(input(\"Enter Fahrenheit\"))\n",
    "c=(f-32)*(5/9);\n",
    "print(f\"celsius ={c:.2f}\")"
   ]
  },
  {
   "cell_type": "code",
   "execution_count": 71,
   "id": "d3128d0a-37f2-4b1e-b132-3222d44a1cd3",
   "metadata": {},
   "outputs": [
    {
     "name": "stdin",
     "output_type": "stream",
     "text": [
      "Enter your weight in kelo/grams 40\n",
      "Enter your height in meters 1.55\n"
     ]
    },
    {
     "name": "stdout",
     "output_type": "stream",
     "text": [
      "16.649323621227886\n"
     ]
    }
   ],
   "source": [
    "#pgm to calculate BMI(Body Mask Index)\n",
    "w=float(input(\"Enter your weight in kelo/grams\"))\n",
    "h=float(input(\"Enter your height in meters\"))\n",
    "bmi=w/h**2\n",
    "print(bmi)\n",
    "# if(bmi>=18 and bmi<=24):\n",
    "#     print(\"You are fit!Keep Going\")\n",
    "# elif(bmi<18):\n",
    "#     print(\"You are not fit!please eat food\")\n",
    "# elif bmi>24:\n",
    "#      print(\"You are not fit!please Do Exercise\")\n",
    "    "
   ]
  },
  {
   "cell_type": "code",
   "execution_count": 77,
   "id": "c394e7f5-9e1b-47c6-b1e1-81453ead8ac8",
   "metadata": {},
   "outputs": [
    {
     "name": "stdin",
     "output_type": "stream",
     "text": [
      "Enter principle amount 100\n",
      "Enter rate 100\n",
      "Enter Time 1\n"
     ]
    },
    {
     "name": "stdout",
     "output_type": "stream",
     "text": [
      "Simple Interest=100.0\n"
     ]
    }
   ],
   "source": [
    "#pgm to Calculate simple interest\n",
    "p=float(input(\"Enter principle amount\"))\n",
    "r=float(input(\"Enter rate\"))\n",
    "t=float(input(\"Enter Time\"))\n",
    "si=p*r*t/100\n",
    "print(f\"Simple Interest={si}\")"
   ]
  },
  {
   "cell_type": "code",
   "execution_count": 111,
   "id": "4b995502-6276-4e18-a348-19026679846f",
   "metadata": {},
   "outputs": [
    {
     "name": "stdin",
     "output_type": "stream",
     "text": [
      "Enter principle amount 1000\n",
      "Enter rate 10\n",
      "Enter Time in years 3\n",
      "Enter how many times the interest is compounded 3\n"
     ]
    },
    {
     "name": "stdout",
     "output_type": "stream",
     "text": [
      "Amount=1343.27\n",
      "Compound Interest=343.27\n"
     ]
    }
   ],
   "source": [
    "#pgm to calculate Compound Interest\n",
    "p=float(input(\"Enter principle amount\"))\n",
    "r=float(input(\"Enter rate\"))/100\n",
    "t=float(input(\"Enter Time in years\"))\n",
    "n=float(input(\"Enter how many times the interest is compounded\"))\n",
    "\n",
    "amount=p*(1+r/n)**(n*t)\n",
    "cp=amount-p\n",
    "print(f\"Amount={amount:.2f}\")\n",
    "print(f\"Compound Interest={cp:.2f}\")"
   ]
  },
  {
   "cell_type": "code",
   "execution_count": 133,
   "id": "800e25cf-c48f-49d5-a05e-1aeec64cbb54",
   "metadata": {},
   "outputs": [
    {
     "name": "stdin",
     "output_type": "stream",
     "text": [
      "Enter a number  3\n"
     ]
    },
    {
     "name": "stdout",
     "output_type": "stream",
     "text": [
      "Sum of first 3 numbers is = 6\n"
     ]
    }
   ],
   "source": [
    "#pgm sum of n numbers\n",
    "n=int(input(\"Enter a number\"))\n",
    "sunOfN=(n*(n+1))//2\n",
    "# using for loop\n",
    "# for i in range(1,n+1):\n",
    "#     sunOfN+=i\n",
    "print(f\"Sum of first {n} numbers is = {sunOfN}\")\n"
   ]
  },
  {
   "cell_type": "code",
   "execution_count": 137,
   "id": "e62e3296-72ff-4877-8b97-ab07292a345c",
   "metadata": {},
   "outputs": [
    {
     "name": "stdin",
     "output_type": "stream",
     "text": [
      "Enter a number in kelometer 186437\n"
     ]
    },
    {
     "name": "stdout",
     "output_type": "stream",
     "text": [
      "186437.0 in meter = 186437000.0 meter\n"
     ]
    }
   ],
   "source": [
    "#pgm km to meter\n",
    "a=float(input(\"Enter a number in kelometer\"))\n",
    "print(f\"{a} in meter = {a*1000} meter\")"
   ]
  },
  {
   "cell_type": "code",
   "execution_count": 167,
   "id": "22703b8d-4485-4bd5-9ba6-d4e00cdfd283",
   "metadata": {},
   "outputs": [
    {
     "name": "stdin",
     "output_type": "stream",
     "text": [
      "Enter a number 1 324444446235\n",
      "Enter a number 2 8376410863784\n",
      "Enter a number 3 3524444446234\n"
     ]
    },
    {
     "name": "stdout",
     "output_type": "stream",
     "text": [
      "8376410863784 is greater than 324444446235 & 3524444446234\n"
     ]
    }
   ],
   "source": [
    "#pgm to find greater number in three numbers\n",
    "#Taking three input numbers from user\n",
    "n1=int(input(\"Enter a number 1\"))\n",
    "n2=int(input(\"Enter a number 2\"))\n",
    "n3=int(input(\"Enter a number 3\"))\n",
    "if(n1>n2 and n1>n3):\n",
    "    print(f\"{n1} is greater than {n2} & {n3}\")\n",
    "elif(n2>n1 and n2>n3):\n",
    "    print(f\"{n2} is greater than {n1} & {n3}\")\n",
    "elif(n1==n2==n3):\n",
    "    print(f\"{n2}, {n1} & {n3} are equal\")\n",
    "elif(n1==n2 and n1>n3):\n",
    "    print(f\"{n1} & {n2} are equal and greater than {n3}\")\n",
    "elif(n2==n3 and n2>n1):\n",
    "    print(f\"{n2} & {n3} are equal and greater than {n1}\")\n",
    "elif(n1==n3 and n1>n2):\n",
    "    print(f\"{n1} & {n3} are equal and greater than {n2}\")\n",
    "else:\n",
    "    print(f\"{n3} is greater than {n1} & {n2}\")"
   ]
  },
  {
   "cell_type": "code",
   "execution_count": 173,
   "id": "d8da778b-7778-43a7-a49c-db2c5f1720e1",
   "metadata": {},
   "outputs": [
    {
     "name": "stdin",
     "output_type": "stream",
     "text": [
      "Enter a number 1 6\n",
      "Enter a number 2 7\n",
      "Enter a number 3 7\n"
     ]
    },
    {
     "name": "stdout",
     "output_type": "stream",
     "text": [
      "7 is greatest number.\n"
     ]
    }
   ],
   "source": [
    "#pgm to find greater number in three numbers in short\n",
    "a=int(input(\"Enter a number 1\"))\n",
    "b=int(input(\"Enter a number 2\"))\n",
    "c=int(input(\"Enter a number 3\"))\n",
    "if a==b==c:\n",
    "    print(\"All numbers are equal\")\n",
    "else:\n",
    "    if a>=b and a>=c:\n",
    "        greatest_number=a\n",
    "    elif b>=a and b>=c:\n",
    "        greatest_number=b\n",
    "    else:\n",
    "        greatest_number=c\n",
    "    print(f\"{greatest_number} is greatest number.\")\n",
    "    "
   ]
  },
  {
   "cell_type": "code",
   "execution_count": 195,
   "id": "28c097a2-8d13-4a15-bb1f-a816b5d855d9",
   "metadata": {},
   "outputs": [
    {
     "name": "stdin",
     "output_type": "stream",
     "text": [
      "Enter a letter W\n"
     ]
    },
    {
     "name": "stdout",
     "output_type": "stream",
     "text": [
      "w is a consonant\n"
     ]
    }
   ],
   "source": [
    "#pgm to check vowel\n",
    "char=input(\"Enter a letter\").lower()\n",
    "match char:\n",
    "    case 'a' | 'e' | 'i' | 'o' | 'u':\n",
    "        print(f\"{char} is a vowel\")\n",
    "    case _:\n",
    "        print(f\"{char} is a consonant\")"
   ]
  },
  {
   "cell_type": "code",
   "execution_count": null,
   "id": "533b27d5-2646-4398-a4b1-10e4330f13ad",
   "metadata": {},
   "outputs": [],
   "source": [
    "ch=input(\"Enter a letter\").lower()\n",
    "if ch in 'aeiou':\n",
    "    print(f\"{ch} is a vowel\")\n",
    "else:\n",
    "    print(f\"{char} is a consonant\")"
   ]
  }
 ],
 "metadata": {
  "kernelspec": {
   "display_name": "Python 3 (ipykernel)",
   "language": "python",
   "name": "python3"
  },
  "language_info": {
   "codemirror_mode": {
    "name": "ipython",
    "version": 3
   },
   "file_extension": ".py",
   "mimetype": "text/x-python",
   "name": "python",
   "nbconvert_exporter": "python",
   "pygments_lexer": "ipython3",
   "version": "3.12.7"
  }
 },
 "nbformat": 4,
 "nbformat_minor": 5
}
