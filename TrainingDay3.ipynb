{
 "cells": [
  {
   "cell_type": "code",
   "execution_count": 46,
   "id": "25d492f5-1d04-46e2-87ea-ed5a61bd4a77",
   "metadata": {},
   "outputs": [
    {
     "name": "stdin",
     "output_type": "stream",
     "text": [
      "Enter a number :  3\n"
     ]
    },
    {
     "name": "stdout",
     "output_type": "stream",
     "text": [
      "3 X 1 = 3\n",
      "3 X 2 = 6\n",
      "3 X 3 = 9\n",
      "3 X 4 = 12\n",
      "3 X 5 = 15\n",
      "3 X 6 = 18\n",
      "3 X 7 = 21\n",
      "3 X 8 = 24\n",
      "3 X 9 = 27\n",
      "3 X 10 = 30\n"
     ]
    }
   ],
   "source": [
    "#pgm to create table\n",
    "n=int(input(\"Enter a number : \"))\n",
    "for i in range(1,11):\n",
    "    a=n*i\n",
    "    print(f\"{n} X {i} = {a}\") \n",
    "    i=i+1"
   ]
  },
  {
   "cell_type": "code",
   "execution_count": 50,
   "id": "fcc2838c-d520-48f7-a2a8-d88a01d089e6",
   "metadata": {},
   "outputs": [
    {
     "name": "stdin",
     "output_type": "stream",
     "text": [
      "Enter number 1 20\n",
      "Enter number 2 15\n",
      "Which operation you want to perform? Enter one symbol from these(+,-,*,/) -\n"
     ]
    },
    {
     "name": "stdout",
     "output_type": "stream",
     "text": [
      " Subtraction of 20 and 15 = 5\n"
     ]
    }
   ],
   "source": [
    "#Arithmetic operations pgm\n",
    "\n",
    "#Taking two numbers from user\n",
    "n1 = int(input(\"Enter number 1\"))\n",
    "n2 = int(input(\"Enter number 2\"))\n",
    "#Taking the operation from user\n",
    "op = input(\"Which operation you want to perform? Enter one symbol from these(+,-,*,/)\")\n",
    "\n",
    "#Performing Arithmetic Operation\n",
    "match op:\n",
    "    case '+':\n",
    "        print(f\" Addition of {n1} and {n2} = {n1+n2}\")\n",
    "    case '-':\n",
    "        print(f\" Subtraction of {n1} and {n2} = {n1-n2}\")\n",
    "    case '*':\n",
    "        print(f\" Multiplication of {n1} and {n2} = {n1*n2}\")\n",
    "    case '/':\n",
    "        if n2==0:\n",
    "            print(\"can't divide by zero\")\n",
    "        else:\n",
    "            print(f\" Division of {n1} and {n2} = {n1/n2}\")\n",
    "    case _:\n",
    "        print(\"invalid input!\")"
   ]
  },
  {
   "cell_type": "code",
   "execution_count": 98,
   "id": "de71c25f-701a-4bfd-aece-6258b2c6a976",
   "metadata": {},
   "outputs": [
    {
     "name": "stdin",
     "output_type": "stream",
     "text": [
      "Enter your marks :  75\n"
     ]
    },
    {
     "name": "stdout",
     "output_type": "stream",
     "text": [
      "First Class with Distinction\n"
     ]
    }
   ],
   "source": [
    "#pgm to find grade classification of student marks\n",
    "marks=float(input(\"Enter your marks : \"))\n",
    "if marks>=0 and marks<=100:\n",
    "    if marks>=75:\n",
    "        print(\"First Class with Distinction\")\n",
    "    elif marks>=60 and marks<75:\n",
    "        print(\"First Class\")\n",
    "    elif marks>=50 and marks<60:\n",
    "        print(\"Second Class\")\n",
    "    elif marks>=40 and marks<50:\n",
    "        print(\"Third Class\")\n",
    "    else:\n",
    "        print(\"You are Fail\")\n",
    "else:\n",
    "    print(\"Invalid Marks!Please enter marks between(0-100)\")"
   ]
  },
  {
   "cell_type": "code",
   "execution_count": 104,
   "id": "abe0f455-cab1-4137-ad72-5ae4cb1694f2",
   "metadata": {},
   "outputs": [
    {
     "name": "stdin",
     "output_type": "stream",
     "text": [
      "Enter your marks :  50\n"
     ]
    },
    {
     "name": "stdout",
     "output_type": "stream",
     "text": [
      "Invalid Marks!Please enter marks between(0-100)\n"
     ]
    }
   ],
   "source": [
    "#pgm to find grade classification of student marks\n",
    "#input marks from the user\n",
    "marks=float(input(\"Enter your marks : \"))\n",
    "# Determine the grade based on the marks\n",
    "if marks<=0 or marks>=100:\n",
    "    print(\"Invalid Marks!Please enter marks between(0-100)\")\n",
    "elif marks>=75:\n",
    "    print(\"First Class with Distinction\")\n",
    "elif marks>=60 and marks<=75:\n",
    "    print(\"First Class\")\n",
    "elif marks>=50 and marks<=60:\n",
    "    print(\"Second Class\")\n",
    "elif marks>=40 and marks<=50:\n",
    "    print(\"Third Class\")\n",
    "else:\n",
    "    print(\"You are Fail\")"
   ]
  },
  {
   "cell_type": "code",
   "execution_count": 150,
   "id": "94d716df-923d-40e4-add1-b008504ed365",
   "metadata": {},
   "outputs": [
    {
     "name": "stdin",
     "output_type": "stream",
     "text": [
      "Enter your age :  50\n"
     ]
    },
    {
     "name": "stdout",
     "output_type": "stream",
     "text": [
      "Ticket price is Rs.300\n"
     ]
    }
   ],
   "source": [
    "#pgm to Calculate the ticket price based on the age\n",
    "#input age from the user\n",
    "age=float(input(\"Enter your age : \"))\n",
    "if age<0 or age>150:\n",
    "    print(\"Invalid age!Please enter valid age\")\n",
    "elif age>60:\n",
    "    print(\"Ticket price is Rs.150\")\n",
    "elif age>=40 and age<=60:\n",
    "    print(\"Ticket price is Rs.300\")\n",
    "elif age>=18 and age<=40:\n",
    "    print(\"Ticket price is Rs.250\")\n",
    "elif age>=5 and age<=18:\n",
    "    print(\"Ticket price is Rs.100\")\n",
    "else:\n",
    "    print(\"Ticket is Free\")"
   ]
  },
  {
   "cell_type": "code",
   "execution_count": 156,
   "id": "db512e75-a4a2-4501-8904-9cb417521c3a",
   "metadata": {},
   "outputs": [
    {
     "name": "stdin",
     "output_type": "stream",
     "text": [
      "Enter your age :  100\n"
     ]
    },
    {
     "name": "stdout",
     "output_type": "stream",
     "text": [
      "Ticket price is Rs.150\n"
     ]
    }
   ],
   "source": [
    "#pgm to Calculate the ticket price based on the age\n",
    "#input age from the user\n",
    "age=float(input(\"Enter your age : \"))\n",
    "if age<0 or age>150:\n",
    "    print(\"Invalid age!Please enter valid age\")\n",
    "elif age>60:\n",
    "    print(\"Ticket price is Rs.150\")\n",
    "elif 60>=age>=40:\n",
    "    print(\"Ticket price is Rs.300\")\n",
    "elif 40>=age>=17:\n",
    "    print(\"Ticket price is Rs.250\")\n",
    "elif 18>=age>=5:\n",
    "    print(\"Ticket price is Rs.100\")\n",
    "else:\n",
    "    print(\"Ticket is Free\")"
   ]
  },
  {
   "cell_type": "code",
   "execution_count": 182,
   "id": "ce12044b-c06c-4075-b7e1-711a70c27201",
   "metadata": {},
   "outputs": [
    {
     "name": "stdin",
     "output_type": "stream",
     "text": [
      "Enter character Lahari\n"
     ]
    },
    {
     "name": "stdout",
     "output_type": "stream",
     "text": [
      "Special Symbols\n"
     ]
    }
   ],
   "source": [
    "#pgm to input char is uppercase,lowercase,digit or special symbol\n",
    "ch = input(\"Enter character\")\n",
    "if ch.isupper():\n",
    "    print(f\"{ch} is Uppercase\")\n",
    "elif ch.islower():\n",
    "    print(f\"{ch} is Lowercase\")\n",
    "elif ch.isdigit():\n",
    "    print(f\"{ch} is Digit\")\n",
    "else:\n",
    "    print(f\"{ch} is Special Symbols\")"
   ]
  },
  {
   "cell_type": "code",
   "execution_count": 248,
   "id": "fc75213d-ba6b-4531-b68d-20589089a693",
   "metadata": {},
   "outputs": [
    {
     "name": "stdin",
     "output_type": "stream",
     "text": [
      "Enter year 1900\n"
     ]
    },
    {
     "name": "stdout",
     "output_type": "stream",
     "text": [
      "Not leap year\n"
     ]
    }
   ],
   "source": [
    "#pgm to find the giver year is leap or not\n",
    "y=int(input(\"Enter year\"))\n",
    "if (y%4==0 and y%100!=0) or (y%400==0) :\n",
    "    print(\"leap year\")\n",
    "else:\n",
    "    print(\"Not leap year\")"
   ]
  },
  {
   "cell_type": "code",
   "execution_count": 244,
   "id": "c158f01f-b793-4611-9b75-8e0da1126cfb",
   "metadata": {},
   "outputs": [
    {
     "name": "stdin",
     "output_type": "stream",
     "text": [
      "Enter year 100\n"
     ]
    },
    {
     "name": "stdout",
     "output_type": "stream",
     "text": [
      "100 is not leap year\n"
     ]
    }
   ],
   "source": [
    "year=int(input(\"Enter year\"))\n",
    "print(f\"{year} is leap year\" if(year%4==0) and (year%100!=0 or year%400==0) else f\"{year} is not leap year\")"
   ]
  },
  {
   "cell_type": "code",
   "execution_count": 250,
   "id": "d9f2c112-245b-46da-ae2e-507d741e624a",
   "metadata": {},
   "outputs": [
    {
     "name": "stdin",
     "output_type": "stream",
     "text": [
      "Enter number 1 20\n",
      "Enter number 2 36\n"
     ]
    },
    {
     "name": "stdout",
     "output_type": "stream",
     "text": [
      "4\n"
     ]
    }
   ],
   "source": [
    "#pgm to find HCF \n",
    "x=int(input(\"Enter number 1\"))\n",
    "y=int(input(\"Enter number 2\"))\n",
    "while y:\n",
    "    x,y=y,x%y\n",
    "print(x)"
   ]
  },
  {
   "cell_type": "code",
   "execution_count": 279,
   "id": "9a8c2f4a-4da3-4846-8034-10ada67681d8",
   "metadata": {},
   "outputs": [
    {
     "name": "stdin",
     "output_type": "stream",
     "text": [
      "Enter a string reer\n"
     ]
    },
    {
     "name": "stdout",
     "output_type": "stream",
     "text": [
      "palindrome\n"
     ]
    }
   ],
   "source": [
    "#palindrome or not\n",
    "a=input(\"Enter a string\")\n",
    "if a[::-1]==a:\n",
    "    print(\"palindrome\")\n",
    "else:\n",
    "    print(\"not palindrome\")"
   ]
  },
  {
   "cell_type": "code",
   "execution_count": 281,
   "id": "a4587b8a-0beb-48fb-b0a7-1ff3e67388a2",
   "metadata": {},
   "outputs": [
    {
     "name": "stdin",
     "output_type": "stream",
     "text": [
      "Enter a string dad\n"
     ]
    },
    {
     "name": "stdout",
     "output_type": "stream",
     "text": [
      "palindrome\n"
     ]
    }
   ],
   "source": [
    "a=input(\"Enter a string\")\n",
    "print(\"palindrome\" if(a[::-1]==a) else \"not palindrome\")"
   ]
  },
  {
   "cell_type": "code",
   "execution_count": 313,
   "id": "52e92a0d-a76a-441c-996e-a305a31a3eaa",
   "metadata": {},
   "outputs": [
    {
     "name": "stdin",
     "output_type": "stream",
     "text": [
      "Enter a string stop\n"
     ]
    },
    {
     "name": "stdout",
     "output_type": "stream",
     "text": [
      "Program Ended\n"
     ]
    }
   ],
   "source": [
    "#while program\n",
    "s=\" \"\n",
    "while s!=\"stop\":\n",
    "    s=input(\"Enter a string\").lower()\n",
    "print(\"Program Ended\")"
   ]
  },
  {
   "cell_type": "code",
   "execution_count": 315,
   "id": "cbc2dda3-216d-4516-ad61-31937fa024c5",
   "metadata": {},
   "outputs": [
    {
     "name": "stdin",
     "output_type": "stream",
     "text": [
      "Enter a string stop\n"
     ]
    },
    {
     "name": "stdout",
     "output_type": "stream",
     "text": [
      "Program Ended\n"
     ]
    }
   ],
   "source": [
    "while True:\n",
    "    s=input(\"Enter a string\").lower()\n",
    "    if s=='stop':\n",
    "        break\n",
    "    else:\n",
    "        continue\n",
    "print(\"Program Ended\")"
   ]
  },
  {
   "cell_type": "code",
   "execution_count": 335,
   "id": "9d5ddbc6-0cf6-4c75-b768-d04bd3acee9c",
   "metadata": {},
   "outputs": [
    {
     "name": "stdin",
     "output_type": "stream",
     "text": [
      "Enter a number 2\n"
     ]
    },
    {
     "name": "stdout",
     "output_type": "stream",
     "text": [
      "1 X 1 = 1\n",
      "2 X 2 = 4\n"
     ]
    }
   ],
   "source": [
    "#pgm to find square of a number\n",
    "n=int(input(\"Enter a number\"))\n",
    "for i in range(1,n+1):\n",
    "    print(f\"{i} X {i} = {i*i}\")"
   ]
  },
  {
   "cell_type": "code",
   "execution_count": 343,
   "id": "f8b5d9ae-8f34-44fb-97c0-e9536492efe2",
   "metadata": {},
   "outputs": [
    {
     "name": "stdin",
     "output_type": "stream",
     "text": [
      "Enter a number 1\n"
     ]
    },
    {
     "name": "stdout",
     "output_type": "stream",
     "text": [
      "1 X 1 = 1\n"
     ]
    }
   ],
   "source": [
    "n=int(input(\"Enter a number\"))\n",
    "i=1\n",
    "while i<=n:\n",
    "    print(f\"{i} X {i} = {i**2}\")\n",
    "    i=i+1"
   ]
  },
  {
   "cell_type": "code",
   "execution_count": 345,
   "id": "6ed70b8e-c6e7-48ca-9cea-0ce0f4fe42aa",
   "metadata": {},
   "outputs": [
    {
     "name": "stdin",
     "output_type": "stream",
     "text": [
      "Enter a number 10\n"
     ]
    },
    {
     "name": "stdout",
     "output_type": "stream",
     "text": [
      "1 X 1 X 1 = 1\n",
      "2 X 2 X 2 = 8\n",
      "3 X 3 X 3 = 27\n",
      "4 X 4 X 4 = 64\n",
      "5 X 5 X 5 = 125\n",
      "6 X 6 X 6 = 216\n",
      "7 X 7 X 7 = 343\n",
      "8 X 8 X 8 = 512\n",
      "9 X 9 X 9 = 729\n",
      "10 X 10 X 10 = 1000\n"
     ]
    }
   ],
   "source": [
    "#pgm to find square of a number\n",
    "n=int(input(\"Enter a number\"))\n",
    "for i in range(1,n+1):\n",
    "    print(f\"{i} X {i} X {i} = {i**3}\")"
   ]
  }
 ],
 "metadata": {
  "kernelspec": {
   "display_name": "Python 3 (ipykernel)",
   "language": "python",
   "name": "python3"
  },
  "language_info": {
   "codemirror_mode": {
    "name": "ipython",
    "version": 3
   },
   "file_extension": ".py",
   "mimetype": "text/x-python",
   "name": "python",
   "nbconvert_exporter": "python",
   "pygments_lexer": "ipython3",
   "version": "3.12.7"
  }
 },
 "nbformat": 4,
 "nbformat_minor": 5
}
