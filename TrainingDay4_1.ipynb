{
 "cells": [
  {
   "cell_type": "code",
   "execution_count": 22,
   "id": "39ef3eca-dcbe-4a33-a29a-53d20ff8271f",
   "metadata": {},
   "outputs": [
    {
     "name": "stdin",
     "output_type": "stream",
     "text": [
      "Enter first number 2\n",
      "Enter first number 5\n"
     ]
    },
    {
     "name": "stdout",
     "output_type": "stream",
     "text": [
      "2 is even 4 is even "
     ]
    }
   ],
   "source": [
    "#pagm to find even numbers from given range\n",
    "n1=int(input(\"Enter first number\"))\n",
    "n2=int(input(\"Enter first number\"))\n",
    "for i in range(n1,n2):\n",
    "    if i%2==0:\n",
    "        print(f\"{i} is even\")"
   ]
  },
  {
   "cell_type": "code",
   "execution_count": 50,
   "id": "1501ef4c-423a-4407-9892-354c4522320c",
   "metadata": {},
   "outputs": [
    {
     "name": "stdin",
     "output_type": "stream",
     "text": [
      "Enter first number 10\n",
      "Enter first number 20\n"
     ]
    },
    {
     "name": "stdout",
     "output_type": "stream",
     "text": [
      "Even numbers between 10 and 20 are:\n",
      "10 12 14 16 18 20 "
     ]
    }
   ],
   "source": [
    "#pagm to find even numbers from given range\n",
    "start=int(input(\"Enter first number\"))\n",
    "end=int(input(\"Enter first number\"))\n",
    "current=start\n",
    "# Assigning starting value to a variable\n",
    "print(f\"Even numbers between {start} and {end} are:\")\n",
    "# while loop condition\n",
    "while current<=end:\n",
    "    if current%2==0:\n",
    "        print(current,end=\" \")\n",
    "    current+=1"
   ]
  },
  {
   "cell_type": "code",
   "execution_count": 52,
   "id": "b6ccb955-4c64-42ed-a95f-d1ca7732b9be",
   "metadata": {},
   "outputs": [
    {
     "name": "stdin",
     "output_type": "stream",
     "text": [
      "Enter a number 12345\n"
     ]
    },
    {
     "name": "stdout",
     "output_type": "stream",
     "text": [
      "54321\n"
     ]
    }
   ],
   "source": [
    "#pgm to reverse number\n",
    "#this pgm for only +ve numbers\n",
    "n=int(input(\"Enter a number\")) #451\n",
    "rev=0\n",
    "while n!=0:\n",
    "    digit=n%10 \n",
    "    rev=rev * 10 + digit\n",
    "    n=n//10\n",
    "    # print(rev)\n",
    "print(rev)    "
   ]
  },
  {
   "cell_type": "code",
   "execution_count": 62,
   "id": "461e49ab-72ed-4aef-8cb5-dd820fd7eafe",
   "metadata": {},
   "outputs": [
    {
     "name": "stdin",
     "output_type": "stream",
     "text": [
      "Enter a number 5\n"
     ]
    },
    {
     "name": "stdout",
     "output_type": "stream",
     "text": [
      "5\n"
     ]
    }
   ],
   "source": [
    "number=int(input(\"Enter a number\")) \n",
    "original=number\n",
    "reversed_number=0\n",
    "if number<0:\n",
    "    number=-number\n",
    "while number>0:\n",
    "    digit=number%10 \n",
    "    reversed_number=reversed_number * 10 + digit\n",
    "    number=number//10\n",
    "print(reversed_number)"
   ]
  },
  {
   "cell_type": "code",
   "execution_count": 92,
   "id": "f3bbe1af-cd49-47d8-86cc-4a46b9036063",
   "metadata": {},
   "outputs": [
    {
     "name": "stdout",
     "output_type": "stream",
     "text": [
      "    1    11    21    31    41    51    61    71    81    91 \n",
      "    2    12    22    32    42    52    62    72    82    92 \n",
      "    3    13    23    33    43    53    63    73    83    93 \n",
      "    4    14    24    34    44    54    64    74    84    94 \n",
      "    5    15    25    35    45    55    65    75    85    95 \n",
      "    6    16    26    36    46    56    66    76    86    96 \n",
      "    7    17    27    37    47    57    67    77    87    97 \n",
      "    8    18    28    38    48    58    68    78    88    98 \n",
      "    9    19    29    39    49    59    69    79    89    99 \n",
      "   10    20    30    40    50    60    70    80    90   100 \n"
     ]
    }
   ],
   "source": [
    "# pgm to print numbers from 1 to 100\n",
    "for i in range(1,11):\n",
    "    for j in range(0,10):\n",
    "        print(f\"{i+j*10:5}\",end=\" \")\n",
    "    print()\n"
   ]
  },
  {
   "cell_type": "code",
   "execution_count": 116,
   "id": "bce5ebd2-b06b-4938-abc3-fd40ae814f43",
   "metadata": {},
   "outputs": [
    {
     "name": "stdin",
     "output_type": "stream",
     "text": [
      "Enter number: 20\n"
     ]
    },
    {
     "name": "stdout",
     "output_type": "stream",
     "text": [
      "    1     2     3     4     5     6     7     8     9    10    11    12    13    14    15    16    17    18    19    20 \n",
      "    2     4     6     8    10    12    14    16    18    20    22    24    26    28    30    32    34    36    38    40 \n",
      "    3     6     9    12    15    18    21    24    27    30    33    36    39    42    45    48    51    54    57    60 \n",
      "    4     8    12    16    20    24    28    32    36    40    44    48    52    56    60    64    68    72    76    80 \n",
      "    5    10    15    20    25    30    35    40    45    50    55    60    65    70    75    80    85    90    95   100 \n",
      "    6    12    18    24    30    36    42    48    54    60    66    72    78    84    90    96   102   108   114   120 \n",
      "    7    14    21    28    35    42    49    56    63    70    77    84    91    98   105   112   119   126   133   140 \n",
      "    8    16    24    32    40    48    56    64    72    80    88    96   104   112   120   128   136   144   152   160 \n",
      "    9    18    27    36    45    54    63    72    81    90    99   108   117   126   135   144   153   162   171   180 \n",
      "   10    20    30    40    50    60    70    80    90   100   110   120   130   140   150   160   170   180   190   200 \n"
     ]
    }
   ],
   "source": [
    "n=int(input(\"Enter number:\"))\n",
    "for i in range(1,11):\n",
    "    for j in range(1,n+1):\n",
    "        print(f\"{i*j:5}\",end=\" \")\n",
    "    print() #move to next line"
   ]
  },
  {
   "cell_type": "code",
   "execution_count": 152,
   "id": "be028b3a-9292-4497-b027-129274a357a1",
   "metadata": {},
   "outputs": [
    {
     "name": "stdin",
     "output_type": "stream",
     "text": [
      "Enter a number: 21\n"
     ]
    },
    {
     "name": "stdout",
     "output_type": "stream",
     "text": [
      "21 is prime\n"
     ]
    }
   ],
   "source": [
    "# pgm to find the given number is rpime or not\n",
    "n=int(input(\"Enter a number:\"))\n",
    "if n==1 or n<=0:\n",
    "    print(f\"{n} is neighter prime nor coprime\")\n",
    "elif n==2:\n",
    "    print(f\"{n} is prime\")\n",
    "elif n%1==0 and n%2==1:\n",
    "    print(f\"{n} is prime\")\n",
    "else:\n",
    "    print(f\"{n} is not prime\")  "
   ]
  },
  {
   "cell_type": "code",
   "execution_count": 168,
   "id": "3b9bf9b4-2605-4e45-860e-822033e86e89",
   "metadata": {},
   "outputs": [
    {
     "name": "stdin",
     "output_type": "stream",
     "text": [
      "Enter a number: 4\n"
     ]
    },
    {
     "name": "stdout",
     "output_type": "stream",
     "text": [
      "4 is not prime\n"
     ]
    }
   ],
   "source": [
    "# pgm to find the given number is pime or not\n",
    "n=int(input(\"Enter a number:\"))\n",
    "count=0\n",
    "for i in range(1,n+1):\n",
    "    if n%i==0:\n",
    "        count+=1\n",
    "if count==2:\n",
    "    print(f\"{n} is prime\")\n",
    "else:\n",
    "    print(f\"{n} is not prime\")"
   ]
  },
  {
   "cell_type": "code",
   "execution_count": 33,
   "id": "29a6696b-ffda-430e-a734-0c92484d38df",
   "metadata": {},
   "outputs": [
    {
     "name": "stdin",
     "output_type": "stream",
     "text": [
      "Enter a number: 3\n"
     ]
    },
    {
     "name": "stdout",
     "output_type": "stream",
     "text": [
      "The factorial of 3 is = 6\n"
     ]
    }
   ],
   "source": [
    "# pgm to find the factorial of a number\n",
    "def fact(n):\n",
    "    factorial=1\n",
    "    for i in range(1,n+1):\n",
    "        factorial*=i\n",
    "    print(f\"The factorial of {n} is = {factorial}\")\n",
    "n=int(input(\"Enter a number:\"))\n",
    "fact(n)"
   ]
  },
  {
   "cell_type": "code",
   "execution_count": 91,
   "id": "5adc01c9-1f77-409f-a612-f3c04c18b099",
   "metadata": {},
   "outputs": [
    {
     "name": "stdin",
     "output_type": "stream",
     "text": [
      "Enter a number: 11\n"
     ]
    },
    {
     "name": "stdout",
     "output_type": "stream",
     "text": [
      "Fibonacci Sequence:\n",
      "0 1 1 2 3 5 8 13 21 34 55 "
     ]
    }
   ],
   "source": [
    "# pgm of fibonacci series\n",
    "n=int(input(\"Enter a number:\"))\n",
    "a,b=0,1\n",
    "print(\"Fibonacci Sequence:\")\n",
    "for i in range(n):\n",
    "    print(a,end=\" \")\n",
    "    a,b=b,a+b"
   ]
  },
  {
   "cell_type": "code",
   "execution_count": 117,
   "id": "80c37398-bf16-4c78-bc24-b4a429360c94",
   "metadata": {},
   "outputs": [
    {
     "name": "stdin",
     "output_type": "stream",
     "text": [
      "Enter a String: vaishnavi\n"
     ]
    },
    {
     "name": "stdout",
     "output_type": "stream",
     "text": [
      "Vowels = 4\n",
      "Consonants=5\n"
     ]
    }
   ],
   "source": [
    "#pgm to count vowels and consonants in inputed String\n",
    "ch=input(\"Enter a String:\").lower()\n",
    "countV=0\n",
    "countC=0\n",
    "for i in ch:\n",
    "    if i in 'aeiou':\n",
    "        countV+=1\n",
    "    else:\n",
    "        countC+=1\n",
    "print(f\"Vowels = {countV}\")\n",
    "print(f\"Consonants={countC}\")"
   ]
  }
 ],
 "metadata": {
  "kernelspec": {
   "display_name": "Python 3 (ipykernel)",
   "language": "python",
   "name": "python3"
  },
  "language_info": {
   "codemirror_mode": {
    "name": "ipython",
    "version": 3
   },
   "file_extension": ".py",
   "mimetype": "text/x-python",
   "name": "python",
   "nbconvert_exporter": "python",
   "pygments_lexer": "ipython3",
   "version": "3.12.7"
  }
 },
 "nbformat": 4,
 "nbformat_minor": 5
}
